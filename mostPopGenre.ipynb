{
 "cells": [
  {
   "cell_type": "markdown",
   "metadata": {},
   "source": [
    "# Most revenue generating app-genres\n",
    "\n",
    "1) Find the most popular genres of apps to gain the maximum numbers  of users and in this way earn maximun revenue from the running ads in the apps.\n",
    "\n",
    "2) Find the most popular categories of Apps"
   ]
  },
  {
   "cell_type": "code",
   "execution_count": 79,
   "metadata": {},
   "outputs": [],
   "source": [
    "file_android = open('googleplaystore.csv', encoding = 'utf8')\n",
    "file_ios = open('AppleStore.csv', encoding = 'utf8')"
   ]
  },
  {
   "cell_type": "markdown",
   "metadata": {},
   "source": [
    "> \n",
    "> >* explore_data() prints the rows from 'start' to 'end'\n",
    "> >* for `rows_and_columns = True` prints the the number of\n",
    "> >  rows and columns present in the 'data_set'\n",
    ">    "
   ]
  },
  {
   "cell_type": "markdown",
   "metadata": {},
   "source": [
    "> `explore_data()` prints the rows of the given `data_set` from\n",
    "   index `srart` to `end -1`. Also, when `rows_and_columns =        True`, it prints the number of 'rows' and 'columns' in the        given data_set. "
   ]
  },
  {
   "cell_type": "code",
   "execution_count": 80,
   "metadata": {},
   "outputs": [],
   "source": [
    "def explore_data(data_set, start, end, rows_and_columns = False):\n",
    "    for row in data_set[start:end]:\n",
    "        print(row)\n",
    "        print('\\n')\n",
    "   \n",
    "    if rows_and_columns:\n",
    "        print(\"number of rows: \", len(data_set))\n",
    "        print(\"number of columns: \", len(data_set[0]))\n",
    "        print('\\n')\n",
    "        \n"
   ]
  },
  {
   "cell_type": "code",
   "execution_count": 81,
   "metadata": {},
   "outputs": [
    {
     "name": "stdout",
     "output_type": "stream",
     "text": [
      "['Photo Editor & Candy Camera & Grid & ScrapBook', 'ART_AND_DESIGN', '4.1', '159', '19M', '10,000+', 'Free', '0', 'Everyone', 'Art & Design', 'January 7, 2018', '1.0.0', '4.0.3 and up']\n",
      "\n",
      "\n",
      "['Coloring book moana', 'ART_AND_DESIGN', '3.9', '967', '14M', '500,000+', 'Free', '0', 'Everyone', 'Art & Design;Pretend Play', 'January 15, 2018', '2.0.0', '4.0.3 and up']\n",
      "\n",
      "\n",
      "number of rows:  10841\n",
      "number of columns:  13\n",
      "\n",
      "\n",
      "['284882215', 'Facebook', '389879808', 'USD', '0.0', '2974676', '212', '3.5', '3.5', '95.0', '4+', 'Social Networking', '37', '1', '29', '1']\n",
      "\n",
      "\n",
      "['389801252', 'Instagram', '113954816', 'USD', '0.0', '2161558', '1289', '4.5', '4.0', '10.23', '12+', 'Photo & Video', '37', '0', '29', '1']\n",
      "\n",
      "\n",
      "number of rows:  7197\n",
      "number of columns:  16\n",
      "\n",
      "\n"
     ]
    }
   ],
   "source": [
    "from csv import reader\n",
    "data_set_android = reader(file_android)\n",
    "data_set_ios = reader(file_ios)\n",
    "list_android = list(data_set_android)\n",
    "list_ios = list(data_set_ios)\n",
    "#print(list_android[1:5])\n",
    "explore_data(list_android[1:], 0, 2, True) # Exploring Android data\n",
    "explore_data(list_ios[1:], 0, 2, True) # Exploring iOS data"
   ]
  },
  {
   "cell_type": "code",
   "execution_count": 82,
   "metadata": {},
   "outputs": [
    {
     "name": "stdout",
     "output_type": "stream",
     "text": [
      "Columns in Android dataset: \n",
      "['App', 'Category', 'Rating', 'Reviews', 'Size', 'Installs', 'Type', 'Price', 'Content Rating', 'Genres', 'Last Updated', 'Current Ver', 'Android Ver']\n",
      "\n",
      "Columns in iOS dataset: \n",
      "['id', 'track_name', 'size_bytes', 'currency', 'price', 'rating_count_tot', 'rating_count_ver', 'user_rating', 'user_rating_ver', 'ver', 'cont_rating', 'prime_genre', 'sup_devices.num', 'ipadSc_urls.num', 'lang.num', 'vpp_lic']\n"
     ]
    }
   ],
   "source": [
    "# Print column names in Android data set\n",
    "print(\"Columns in Android dataset: \")\n",
    "print(list_android[0])\n",
    "print(\"\\nColumns in iOS dataset: \")\n",
    "print(list_ios[0])\n",
    "    "
   ]
  },
  {
   "cell_type": "markdown",
   "metadata": {},
   "source": [
    "__Helpful columns for our analysis in Android dataset:__\n",
    "\n",
    "    1) App : Name of the App\n",
    "    2) Category : Category or genre of the app, e.g gaming\n",
    "    3) Rating : Avg. rating given by the users out of 5\n",
    "    4) Reviews : Number of reviews received from users.\n",
    "    5) Installs : Total number of installations by users.\n",
    "    6) Type : to know the app is 'Free' or 'Paid'\n",
    "    7) Content Rating : Suitability for diffrent age groups.\n",
    "    \n",
    "__Helpful columns for analysis in iOS dataset:__\n",
    "\n",
    "    1) track_name : Name of the app\n",
    "    2) price : to know the app is 'Free' or 'Paid'\n",
    "    3) rating_count_total : Total number of ratings given by            the users.\n",
    "    4) user_rating : Avg. rating given by the users out of 5\n",
    "    5) cont_rating : Suitability for diffrent age groups.\n",
    "    6) prime_genre : Category or genre of the app, e.g gaming\n",
    "    7) sup_devices.num : Number of Android devices supported\n",
    "    8) lang.num : Number of languages supported by the app"
   ]
  },
  {
   "cell_type": "code",
   "execution_count": 83,
   "metadata": {},
   "outputs": [
    {
     "name": "stdout",
     "output_type": "stream",
     "text": [
      "['App', 'Category', 'Rating', 'Reviews', 'Size', 'Installs', 'Type', 'Price', 'Content Rating', 'Genres', 'Last Updated', 'Current Ver', 'Android Ver']\n",
      "['Life Made WI-Fi Touchscreen Photo Frame', '1.9', '19', '3.0M', '1,000+', 'Free', '0', 'Everyone', '', 'February 11, 2018', '1.0.19', '4.0 and up']\n",
      "\n",
      "\n",
      "['osmino Wi-Fi: free WiFi', 'TOOLS', '4.2', '134203', '4.1M', '10,000,000+', 'Free', '0', 'Everyone', 'Tools', 'August 7, 2018', '6.06.14', '4.4 and up']\n",
      "\n",
      "\n"
     ]
    }
   ],
   "source": [
    "print(list_android[0]) # Printing column names for Android apps\n",
    "explore_data(list_android, 10473,10474)\n",
    "del list_android[10473] # removing the row with error with index 10,473\n",
    "explore_data(list_android, 10473,10474)"
   ]
  },
  {
   "cell_type": "code",
   "execution_count": 84,
   "metadata": {
    "scrolled": true
   },
   "outputs": [
    {
     "name": "stdout",
     "output_type": "stream",
     "text": [
      "['Instagram', 'SOCIAL', '4.5', '66577313', 'Varies with device', '1,000,000,000+', 'Free', '0', 'Teen', 'Social', 'July 31, 2018', 'Varies with device', 'Varies with device']\n",
      "['Instagram', 'SOCIAL', '4.5', '66577446', 'Varies with device', '1,000,000,000+', 'Free', '0', 'Teen', 'Social', 'July 31, 2018', 'Varies with device', 'Varies with device']\n",
      "['Instagram', 'SOCIAL', '4.5', '66577313', 'Varies with device', '1,000,000,000+', 'Free', '0', 'Teen', 'Social', 'July 31, 2018', 'Varies with device', 'Varies with device']\n",
      "['Instagram', 'SOCIAL', '4.5', '66509917', 'Varies with device', '1,000,000,000+', 'Free', '0', 'Teen', 'Social', 'July 31, 2018', 'Varies with device', 'Varies with device']\n"
     ]
    }
   ],
   "source": [
    "for app in list_android[1:]:\n",
    "    if app[0] == 'Instagram':\n",
    "        print(app)"
   ]
  },
  {
   "cell_type": "markdown",
   "metadata": {},
   "source": [
    "> The following code will first print the total number duplicate   entries of the apps in our dataset.\n",
    "\n",
    "> Next, it will print a sample of some of the names of the apps     with duplicate entries and then will print all the duplicate     entries for some of those apps. "
   ]
  },
  {
   "cell_type": "code",
   "execution_count": 85,
   "metadata": {},
   "outputs": [
    {
     "name": "stdout",
     "output_type": "stream",
     "text": [
      "Number of duplicate Apps: 1181\n",
      "\n",
      "\n",
      "Sample of duplicate App Names: \n",
      "['Quick PDF Scanner + OCR FREE', 'Box', 'Google My Business', 'ZOOM Cloud Meetings', 'join.me - Simple Meetings', 'Box', 'Zenefits', 'Google Ads', 'Google My Business', 'Slack']\n",
      "\n",
      "\n",
      "Sample of duplicate Apps: \n",
      "['Quick PDF Scanner + OCR FREE', 'BUSINESS', '4.2', '80805', 'Varies with device', '5,000,000+', 'Free', '0', 'Everyone', 'Business', 'February 26, 2018', 'Varies with device', '4.0.3 and up']\n",
      "\n",
      "\n",
      "['Quick PDF Scanner + OCR FREE', 'BUSINESS', '4.2', '80805', 'Varies with device', '5,000,000+', 'Free', '0', 'Everyone', 'Business', 'February 26, 2018', 'Varies with device', '4.0.3 and up']\n",
      "\n",
      "\n",
      "['Quick PDF Scanner + OCR FREE', 'BUSINESS', '4.2', '80804', 'Varies with device', '5,000,000+', 'Free', '0', 'Everyone', 'Business', 'February 26, 2018', 'Varies with device', '4.0.3 and up']\n",
      "\n",
      "\n",
      "['Box', 'BUSINESS', '4.2', '159872', 'Varies with device', '10,000,000+', 'Free', '0', 'Everyone', 'Business', 'July 31, 2018', 'Varies with device', 'Varies with device']\n",
      "\n",
      "\n",
      "['Box', 'BUSINESS', '4.2', '159872', 'Varies with device', '10,000,000+', 'Free', '0', 'Everyone', 'Business', 'July 31, 2018', 'Varies with device', 'Varies with device']\n",
      "\n",
      "\n",
      "['Box', 'BUSINESS', '4.2', '159872', 'Varies with device', '10,000,000+', 'Free', '0', 'Everyone', 'Business', 'July 31, 2018', 'Varies with device', 'Varies with device']\n",
      "\n",
      "\n",
      "['Google My Business', 'BUSINESS', '4.4', '70991', 'Varies with device', '5,000,000+', 'Free', '0', 'Everyone', 'Business', 'July 24, 2018', '2.19.0.204537701', '4.4 and up']\n",
      "\n",
      "\n",
      "['Google My Business', 'BUSINESS', '4.4', '70991', 'Varies with device', '5,000,000+', 'Free', '0', 'Everyone', 'Business', 'July 24, 2018', '2.19.0.204537701', '4.4 and up']\n",
      "\n",
      "\n",
      "['Google My Business', 'BUSINESS', '4.4', '70991', 'Varies with device', '5,000,000+', 'Free', '0', 'Everyone', 'Business', 'July 24, 2018', '2.19.0.204537701', '4.4 and up']\n",
      "\n",
      "\n",
      "['ZOOM Cloud Meetings', 'BUSINESS', '4.4', '31614', '37M', '10,000,000+', 'Free', '0', 'Everyone', 'Business', 'July 20, 2018', '4.1.28165.0716', '4.0 and up']\n",
      "\n",
      "\n",
      "['ZOOM Cloud Meetings', 'BUSINESS', '4.4', '31614', '37M', '10,000,000+', 'Free', '0', 'Everyone', 'Business', 'July 20, 2018', '4.1.28165.0716', '4.0 and up']\n",
      "\n",
      "\n",
      "['join.me - Simple Meetings', 'BUSINESS', '4.0', '6989', 'Varies with device', '1,000,000+', 'Free', '0', 'Everyone', 'Business', 'July 16, 2018', '4.3.0.508', '4.4 and up']\n",
      "\n",
      "\n",
      "['join.me - Simple Meetings', 'BUSINESS', '4.0', '6989', 'Varies with device', '1,000,000+', 'Free', '0', 'Everyone', 'Business', 'July 16, 2018', '4.3.0.508', '4.4 and up']\n",
      "\n",
      "\n",
      "['join.me - Simple Meetings', 'BUSINESS', '4.0', '6989', 'Varies with device', '1,000,000+', 'Free', '0', 'Everyone', 'Business', 'July 16, 2018', '4.3.0.508', '4.4 and up']\n",
      "\n",
      "\n"
     ]
    }
   ],
   "source": [
    "unique_apps = []\n",
    "duplicate_apps = []\n",
    "unique_app_names = []\n",
    "duplicate_app_names = []\n",
    "for app in list_android[1:]:\n",
    "    if app[0] in unique_app_names:\n",
    "        duplicate_apps.append(app)\n",
    "        duplicate_app_names.append(app[0])\n",
    "    else:\n",
    "        unique_apps.append(app)\n",
    "        unique_app_names.append(app[0])\n",
    "print(\"Number of duplicate Apps: \"+str(len(duplicate_apps)))\n",
    "print('\\n')\n",
    "print(\"Sample of duplicate App Names: \")\n",
    "print(duplicate_app_names[:10])\n",
    "print('\\n')\n",
    "print(\"Sample of duplicate Apps: \")\n",
    "count = 0\n",
    "for app_name in duplicate_app_names:\n",
    "    for app in list_android:\n",
    "        if app_name == app[0]:\n",
    "            print(app)\n",
    "            print('\\n')\n",
    "    count += 1\n",
    "    if count == 5:\n",
    "        break"
   ]
  },
  {
   "cell_type": "markdown",
   "metadata": {},
   "source": [
    "> In the above we can see that the total number of duplicate apps\n",
    "  is 1181.\n",
    "\n",
    "> A sample of 5 duplicate apps with all their instances of         duplicity are printed next. \n",
    " \n",
    "> We need to remove the duplicate instances of the apps so that \n",
    "  our conclusion drawn is not wrong from the information that we \n",
    "  have in our hand. We can remove the duplicate instances of a \n",
    "  given app raandomly or we can formualte a reasonable criterion   to remove them. \n",
    "\n",
    "> We can see that under the column heading 'Rating' for some of     the apps the duplicate entries have differnt values. We can       safely conclude that - more the number of ratingd the more       recent is the data of the given entry. So, we will keep the       entry with the highest value for 'rating' and remove the other   entries from our dataset."
   ]
  },
  {
   "cell_type": "code",
   "execution_count": 86,
   "metadata": {},
   "outputs": [
    {
     "name": "stdout",
     "output_type": "stream",
     "text": [
      "Expected length of dataset:  9659\n"
     ]
    }
   ],
   "source": [
    "print('Expected length of dataset: ', len(list_android[1:]) - 1181 )"
   ]
  },
  {
   "cell_type": "markdown",
   "metadata": {},
   "source": [
    "> A dictionary `reviews_max{}` is created to store the unique       name   of each android app as key and the highest no of reviews   among all its entries in the dataset as value.\n",
    "\n",
    "> While looping through the dataset app name is stored in the \n",
    "  variable `name` and the reviews in the variable `n_reviews`.\n",
    "  \n",
    "> If `name` already exists as key in `reviews_max` and `n_reviews   > reviews_max[name]` then the number of reviews for that entry   in the `reviews_max` dictionary is updated.\n",
    "  \n",
    "> if `name` is not in the `reviews_max` dictionary then a new \n",
    "  entry is created in the dictionary with key as the `name` and     value as `n_reviews`"
   ]
  },
  {
   "cell_type": "code",
   "execution_count": 87,
   "metadata": {},
   "outputs": [
    {
     "name": "stdout",
     "output_type": "stream",
     "text": [
      "length of the dictionary, reviews_max  9659\n",
      "66577446.0\n"
     ]
    }
   ],
   "source": [
    "# The dictionary reviews_max contains the unique 'name' of the \n",
    "# app as the key and the highest number of 'reviews' as the value.\n",
    "reviews_max = {}\n",
    "for app in list_android[1:]:\n",
    "    name = app[0]\n",
    "    n_reviews = float(app[3])\n",
    "    if name in reviews_max and n_reviews > reviews_max[name]:\n",
    "        reviews_max[name] = n_reviews\n",
    "    if name not in reviews_max:\n",
    "        reviews_max[name] = n_reviews\n",
    "\n",
    "print(\"length of the dictionary, reviews_max \", len(reviews_max))\n",
    "print(reviews_max[\"Instagram\"])"
   ]
  },
  {
   "cell_type": "markdown",
   "metadata": {},
   "source": [
    "> Two empty lists are created  `android_clean` (which will         store our new cleaned data set) and `already_added`(which will   just store app names).\n",
    "\n",
    "> While looping through the dataset app name is stored in the \n",
    "  variable `name` and the reviews in the variable `n_reviews`.\n",
    "\n",
    "> If `n_reviews` is the same as the number of maximum reviews of   the app name (`reviews_max[name]`) and `name` is not already in   the list `already_added`:\n",
    "  \n",
    "      * Append the entire row to the `android_clean` list \n",
    "      * Append the name of the app to the `already_added` \n",
    "      list which helps us to keep track of the apps that we             already added."
   ]
  },
  {
   "cell_type": "code",
   "execution_count": 88,
   "metadata": {
    "scrolled": true
   },
   "outputs": [
    {
     "name": "stdout",
     "output_type": "stream",
     "text": [
      "Length of clean android dataset : 9659\n"
     ]
    }
   ],
   "source": [
    "list_android_clean = []\n",
    "already_added = []\n",
    "for app in list_android[1:]:\n",
    "    name = app[0]\n",
    "    n_reviews = float(app[3])\n",
    "    #print(name, n_reviews, reviews_max[name])\n",
    "    \n",
    "    if  n_reviews == reviews_max[name] and name not in already_added:\n",
    "        list_android_clean.append(app)\n",
    "        already_added.append(name)\n",
    "print(\"Length of clean android dataset :\", len(list_android_clean))\n",
    "\n",
    "\n",
    "#print (\"\\nSample rows of clean android dataset :\")\n",
    "#count = 0\n",
    "#for app in list_android_clean:\n",
    "#    if(app[0] == 'Instagram'):\n",
    "#    #if(count < 10):\n",
    "#        print(app)\n",
    "#        print('\\n')\n",
    "#        #count +=1\n",
    "\n"
   ]
  },
  {
   "cell_type": "markdown",
   "metadata": {},
   "source": [
    "> From executing the following code two duplicate apps with \n",
    "  same names were fond - \n",
    "      1. Mannequin Challenge\n",
    "      2. VR Roller Coaster \n",
    "  However, in bot the cases even though their names are some       size of the apps and version of the apps are different. So,\n",
    "  in all probability they are different and unique apps.\n",
    "  "
   ]
  },
  {
   "cell_type": "code",
   "execution_count": 89,
   "metadata": {
    "scrolled": true
   },
   "outputs": [
    {
     "name": "stdout",
     "output_type": "stream",
     "text": [
      "total number of iOS apps  7195\n",
      "Number of duplicate iOS apps: 2\n",
      "Duplicate iOS apps:\n",
      "[['1178454060', 'Mannequin Challenge', '59572224', 'USD', '0.0', '105', '58', '4.0', '4.5', '1.0.1', '4+', 'Games', '38', '5', '1', '1'], ['1089824278', 'VR Roller Coaster', '240964608', 'USD', '0.0', '67', '44', '3.5', '4.0', '0.81', '4+', 'Games', '38', '0', '1', '1']]\n"
     ]
    }
   ],
   "source": [
    "dup_ios_apps = []\n",
    "app_names = []\n",
    "for app in list_ios[1:]:\n",
    "    name = app[1]\n",
    "    if name not in app_names:\n",
    "        app_names.append(name)\n",
    "    else:\n",
    "        dup_ios_apps.append(app)\n",
    "print(\"total number of iOS apps \", len(app_names))\n",
    "print(\"Number of duplicate iOS apps:\", len(dup_ios_apps))\n",
    "print(\"Duplicate iOS apps:\")\n",
    "print(dup_ios_apps)\n",
    "                                                "
   ]
  },
  {
   "cell_type": "markdown",
   "metadata": {},
   "source": [
    "> The `is_english(word)` function returns, `True` if the 'app'     (`word`) passed as an argument is 'Enlish', otherwise it         returns `False`.\n",
    "> There are two ways employed to determine if the app is in 'English' :\n",
    "\n",
    "      1. If the argument `word` has more than 3 characters with ASCII value more than 127 then it retuens `False`.\n",
    "      \n",
    "      2. If the argument `word` has less than 4 characters with all of their ASCII values more than 127 then also it              returns `False`.\n",
    "  "
   ]
  },
  {
   "cell_type": "code",
   "execution_count": 90,
   "metadata": {},
   "outputs": [],
   "source": [
    "def is_english(word):\n",
    "    # Following code checks for non-English apps when the length\n",
    "    # of the app is more than 3.\n",
    "    count = 0\n",
    "    for c in word:\n",
    "        if ord(c) > 127:\n",
    "            count += 1\n",
    "            if count > 3:\n",
    "                return False\n",
    "            \n",
    "    # Following code checks for non-English apps when the length\n",
    "    #  of the app is less than 4.\n",
    "    if len(word) <= 3:\n",
    "        count = 0\n",
    "        #print(word)\n",
    "        for c in word:\n",
    "            if ord(c) > 127:\n",
    "                count += 1\n",
    "        #print(count)\n",
    "        if count == len(word):\n",
    "            #print(word)\n",
    "            return False\n",
    "\n",
    "    return True"
   ]
  },
  {
   "cell_type": "markdown",
   "metadata": {},
   "source": [
    "__The code below creates tow lists:__\n",
    "\n",
    "        1. `list_android_eng` : To store all the English Android                                 apps\n",
    "        2. `list_ios_eng` : To store all the iOS English apps."
   ]
  },
  {
   "cell_type": "code",
   "execution_count": 91,
   "metadata": {},
   "outputs": [
    {
     "name": "stdout",
     "output_type": "stream",
     "text": [
      "Number of Android English apps:  9614\n",
      "Number of iOS English apps:  6165\n"
     ]
    }
   ],
   "source": [
    "list_android_eng = []\n",
    "list_ios_eng = []\n",
    "\n",
    "for app in list_android_clean:\n",
    "    if is_english(app[0]):\n",
    "        list_android_eng.append(app)\n",
    "        \n",
    "for app in list_ios[1:]:\n",
    "    if is_english(app[1]):\n",
    "        list_ios_eng.append(app)\n",
    "        \n",
    "print(\"Number of Android English apps: \", len(list_android_eng))\n",
    "\n",
    "\n",
    "print(\"Number of iOS English apps: \", len(list_ios_eng))\n"
   ]
  },
  {
   "cell_type": "markdown",
   "metadata": {},
   "source": [
    "`is_free(app)` checks if the passed argument is a free app or not and returns `True` for free apps and `False` for paid apps."
   ]
  },
  {
   "cell_type": "code",
   "execution_count": 92,
   "metadata": {},
   "outputs": [],
   "source": [
    "def is_free(app_price):\n",
    "    if app_price.startswith('$'):\n",
    "        app_price = app_price[1:]\n",
    "    if float(app_price) == 0:\n",
    "        return True\n",
    "    else:\n",
    "        return False\n",
    "    "
   ]
  },
  {
   "cell_type": "code",
   "execution_count": 93,
   "metadata": {
    "scrolled": true
   },
   "outputs": [
    {
     "name": "stdout",
     "output_type": "stream",
     "text": [
      "Number of Android English Free apps:  8864\n",
      "Number of iOS English Free apps:  3206\n"
     ]
    }
   ],
   "source": [
    "list_final_android = []\n",
    "list_final_ios = []\n",
    "\n",
    "for app in list_android_eng:\n",
    "    if is_free(app[7]):\n",
    "        list_final_android.append(app)\n",
    "for app in list_ios_eng:\n",
    "    if is_free(app[4]):\n",
    "        list_final_ios.append(app)\n",
    "        \n",
    "print(\"Number of Android English Free apps: \", len(list_final_android))\n",
    "#print(list_final_android[:5])\n",
    "\n",
    "print(\"Number of iOS English Free apps: \", len(list_final_ios))\n",
    "#print(list_final_ios[:5])\n"
   ]
  },
  {
   "cell_type": "markdown",
   "metadata": {},
   "source": [
    "The function `freq_table()` takes in two inputs: `dataset` and `index`.\n",
    "\n",
    "    * The function returns the frequency table for any column we want\n",
    "    * The frquencies are expressed as percentages"
   ]
  },
  {
   "cell_type": "code",
   "execution_count": 94,
   "metadata": {},
   "outputs": [],
   "source": [
    "def freq_table(dataset, index):\n",
    "    table = {} # Dictionary to store the column frquency a percentages\n",
    "    total = len(dataset) # Total number of values in the column\n",
    "    for app in dataset:\n",
    "        col_value = app[index]\n",
    "        if col_value in table:\n",
    "            table[col_value] += 1\n",
    "        else:\n",
    "            table[col_value] = 1\n",
    "    \n",
    "    for key in table:\n",
    "        percentage = round((table[key] / total) * 100, 2) # Rounding the percentage to 2 digits after decimal\n",
    "        table[key] = percentage\n",
    "        \n",
    "    return table"
   ]
  },
  {
   "cell_type": "markdown",
   "metadata": {},
   "source": [
    "The function `display_table(dataset, index)` creates the frequency table for the column passed as index and sorts the values in descending order.  "
   ]
  },
  {
   "cell_type": "code",
   "execution_count": 95,
   "metadata": {},
   "outputs": [],
   "source": [
    "def display_table(dataset, index):\n",
    "    table = freq_table(dataset, index)\n",
    "    table_display = []\n",
    "    for key in table:\n",
    "        val_first_tuple = (table[key], key)\n",
    "        table_display.append(val_first_tuple)\n",
    "    table_sorted = sorted(table_display, reverse = True)\n",
    "    for entry in table_sorted:\n",
    "        print(entry[1], ':', entry[0], \"%\")"
   ]
  },
  {
   "cell_type": "code",
   "execution_count": 96,
   "metadata": {},
   "outputs": [
    {
     "name": "stdout",
     "output_type": "stream",
     "text": [
      "App Store Frequency table for the column 'prime_genre'\n",
      "\n",
      "Games : 58.17 %\n",
      "Entertainment : 7.89 %\n",
      "Photo & Video : 4.99 %\n",
      "Education : 3.68 %\n",
      "Social Networking : 3.24 %\n",
      "Shopping : 2.62 %\n",
      "Utilities : 2.53 %\n",
      "Sports : 2.15 %\n",
      "Music : 2.06 %\n",
      "Health & Fitness : 2.03 %\n",
      "Productivity : 1.75 %\n",
      "Lifestyle : 1.56 %\n",
      "News : 1.34 %\n",
      "Travel : 1.22 %\n",
      "Finance : 1.09 %\n",
      "Weather : 0.87 %\n",
      "Food & Drink : 0.81 %\n",
      "Reference : 0.56 %\n",
      "Business : 0.53 %\n",
      "Book : 0.41 %\n",
      "Navigation : 0.19 %\n",
      "Medical : 0.19 %\n",
      "Catalogs : 0.12 %\n",
      "\n",
      "Google PlayStore Frequency table for the column 'Category'\n",
      "\n",
      "FAMILY : 18.91 %\n",
      "GAME : 9.72 %\n",
      "TOOLS : 8.46 %\n",
      "BUSINESS : 4.59 %\n",
      "LIFESTYLE : 3.9 %\n",
      "PRODUCTIVITY : 3.89 %\n",
      "FINANCE : 3.7 %\n",
      "MEDICAL : 3.53 %\n",
      "SPORTS : 3.4 %\n",
      "PERSONALIZATION : 3.32 %\n",
      "COMMUNICATION : 3.24 %\n",
      "HEALTH_AND_FITNESS : 3.08 %\n",
      "PHOTOGRAPHY : 2.94 %\n",
      "NEWS_AND_MAGAZINES : 2.8 %\n",
      "SOCIAL : 2.66 %\n",
      "TRAVEL_AND_LOCAL : 2.34 %\n",
      "SHOPPING : 2.25 %\n",
      "BOOKS_AND_REFERENCE : 2.14 %\n",
      "DATING : 1.86 %\n",
      "VIDEO_PLAYERS : 1.79 %\n",
      "MAPS_AND_NAVIGATION : 1.4 %\n",
      "FOOD_AND_DRINK : 1.24 %\n",
      "EDUCATION : 1.16 %\n",
      "ENTERTAINMENT : 0.96 %\n",
      "LIBRARIES_AND_DEMO : 0.94 %\n",
      "AUTO_AND_VEHICLES : 0.93 %\n",
      "HOUSE_AND_HOME : 0.82 %\n",
      "WEATHER : 0.8 %\n",
      "EVENTS : 0.71 %\n",
      "PARENTING : 0.65 %\n",
      "ART_AND_DESIGN : 0.64 %\n",
      "COMICS : 0.62 %\n",
      "BEAUTY : 0.6 %\n",
      "\n",
      "Google PlayStore Frequency table for the column 'Genres'\n",
      "\n",
      "Tools : 8.45 %\n",
      "Entertainment : 6.07 %\n",
      "Education : 5.35 %\n",
      "Business : 4.59 %\n",
      "Productivity : 3.89 %\n",
      "Lifestyle : 3.89 %\n",
      "Finance : 3.7 %\n",
      "Medical : 3.53 %\n",
      "Sports : 3.46 %\n",
      "Personalization : 3.32 %\n",
      "Communication : 3.24 %\n",
      "Action : 3.1 %\n",
      "Health & Fitness : 3.08 %\n",
      "Photography : 2.94 %\n",
      "News & Magazines : 2.8 %\n",
      "Social : 2.66 %\n",
      "Travel & Local : 2.32 %\n",
      "Shopping : 2.25 %\n",
      "Books & Reference : 2.14 %\n",
      "Simulation : 2.04 %\n",
      "Dating : 1.86 %\n",
      "Arcade : 1.85 %\n",
      "Video Players & Editors : 1.77 %\n",
      "Casual : 1.76 %\n",
      "Maps & Navigation : 1.4 %\n",
      "Food & Drink : 1.24 %\n",
      "Puzzle : 1.13 %\n",
      "Racing : 0.99 %\n",
      "Role Playing : 0.94 %\n",
      "Libraries & Demo : 0.94 %\n",
      "Auto & Vehicles : 0.93 %\n",
      "Strategy : 0.91 %\n",
      "House & Home : 0.82 %\n",
      "Weather : 0.8 %\n",
      "Events : 0.71 %\n",
      "Adventure : 0.68 %\n",
      "Comics : 0.61 %\n",
      "Beauty : 0.6 %\n",
      "Art & Design : 0.6 %\n",
      "Parenting : 0.5 %\n",
      "Card : 0.45 %\n",
      "Casino : 0.43 %\n",
      "Trivia : 0.42 %\n",
      "Educational;Education : 0.39 %\n",
      "Board : 0.38 %\n",
      "Educational : 0.37 %\n",
      "Education;Education : 0.34 %\n",
      "Word : 0.26 %\n",
      "Casual;Pretend Play : 0.24 %\n",
      "Music : 0.2 %\n",
      "Racing;Action & Adventure : 0.17 %\n",
      "Puzzle;Brain Games : 0.17 %\n",
      "Entertainment;Music & Video : 0.17 %\n",
      "Casual;Brain Games : 0.14 %\n",
      "Casual;Action & Adventure : 0.14 %\n",
      "Arcade;Action & Adventure : 0.12 %\n",
      "Action;Action & Adventure : 0.1 %\n",
      "Educational;Pretend Play : 0.09 %\n",
      "Simulation;Action & Adventure : 0.08 %\n",
      "Parenting;Education : 0.08 %\n",
      "Entertainment;Brain Games : 0.08 %\n",
      "Board;Brain Games : 0.08 %\n",
      "Parenting;Music & Video : 0.07 %\n",
      "Educational;Brain Games : 0.07 %\n",
      "Casual;Creativity : 0.07 %\n",
      "Art & Design;Creativity : 0.07 %\n",
      "Education;Pretend Play : 0.06 %\n",
      "Role Playing;Pretend Play : 0.05 %\n",
      "Education;Creativity : 0.05 %\n",
      "Role Playing;Action & Adventure : 0.03 %\n",
      "Puzzle;Action & Adventure : 0.03 %\n",
      "Entertainment;Creativity : 0.03 %\n",
      "Entertainment;Action & Adventure : 0.03 %\n",
      "Educational;Creativity : 0.03 %\n",
      "Educational;Action & Adventure : 0.03 %\n",
      "Education;Music & Video : 0.03 %\n",
      "Education;Brain Games : 0.03 %\n",
      "Education;Action & Adventure : 0.03 %\n",
      "Adventure;Action & Adventure : 0.03 %\n",
      "Video Players & Editors;Music & Video : 0.02 %\n",
      "Sports;Action & Adventure : 0.02 %\n",
      "Simulation;Pretend Play : 0.02 %\n",
      "Puzzle;Creativity : 0.02 %\n",
      "Music;Music & Video : 0.02 %\n",
      "Entertainment;Pretend Play : 0.02 %\n",
      "Casual;Education : 0.02 %\n",
      "Board;Action & Adventure : 0.02 %\n",
      "Video Players & Editors;Creativity : 0.01 %\n",
      "Trivia;Education : 0.01 %\n",
      "Travel & Local;Action & Adventure : 0.01 %\n",
      "Tools;Education : 0.01 %\n",
      "Strategy;Education : 0.01 %\n",
      "Strategy;Creativity : 0.01 %\n",
      "Strategy;Action & Adventure : 0.01 %\n",
      "Simulation;Education : 0.01 %\n",
      "Role Playing;Brain Games : 0.01 %\n",
      "Racing;Pretend Play : 0.01 %\n",
      "Puzzle;Education : 0.01 %\n",
      "Parenting;Brain Games : 0.01 %\n",
      "Music & Audio;Music & Video : 0.01 %\n",
      "Lifestyle;Pretend Play : 0.01 %\n",
      "Lifestyle;Education : 0.01 %\n",
      "Health & Fitness;Education : 0.01 %\n",
      "Health & Fitness;Action & Adventure : 0.01 %\n",
      "Entertainment;Education : 0.01 %\n",
      "Communication;Creativity : 0.01 %\n",
      "Comics;Creativity : 0.01 %\n",
      "Casual;Music & Video : 0.01 %\n",
      "Card;Action & Adventure : 0.01 %\n",
      "Books & Reference;Education : 0.01 %\n",
      "Art & Design;Pretend Play : 0.01 %\n",
      "Art & Design;Action & Adventure : 0.01 %\n",
      "Arcade;Pretend Play : 0.01 %\n",
      "Adventure;Education : 0.01 %\n"
     ]
    }
   ],
   "source": [
    "print(\"App Store Frequency table for the column 'prime_genre'\\n\")\n",
    "display_table(list_final_ios, 11)\n",
    "print(\"\\nGoogle PlayStore Frequency table for the column 'Category'\\n\")\n",
    "display_table(list_final_android, 1)\n",
    "print(\"\\nGoogle PlayStore Frequency table for the column 'Genres'\\n\")\n",
    "display_table(list_final_android, 9)"
   ]
  },
  {
   "cell_type": "markdown",
   "metadata": {},
   "source": [
    "`display_table2()` takes a dictionary as argument, reverses the position of 'key-value' pair i.e key becomes the value and vice versa. It generates a list of tuples, sorts them in descending order and prints them.  "
   ]
  },
  {
   "cell_type": "code",
   "execution_count": 97,
   "metadata": {},
   "outputs": [],
   "source": [
    "def display_table2(table):\n",
    "    display_table = []\n",
    "    for key in table:\n",
    "        val_first_tuple =(table[key], key)\n",
    "        display_table.append(val_first_tuple)\n",
    "    table_sorted = sorted(display_table,reverse = True)\n",
    "    #print('Genre: ',genre, '-', avg_user_ratings )\n",
    "    for entry in table_sorted:\n",
    "        print(entry[1], ': ', entry[0])"
   ]
  },
  {
   "cell_type": "markdown",
   "metadata": {},
   "source": [
    "###### The following code generates the average of the total number of user ratings per app genre in app datastore."
   ]
  },
  {
   "cell_type": "code",
   "execution_count": 98,
   "metadata": {},
   "outputs": [
    {
     "name": "stdout",
     "output_type": "stream",
     "text": [
      "Navigation :  86090.33\n",
      "Reference :  74942.11\n",
      "Social Networking :  72916.55\n",
      "Music :  57326.53\n",
      "Weather :  52279.89\n",
      "Book :  42816.85\n",
      "Food & Drink :  33333.92\n",
      "Finance :  32367.03\n",
      "Travel :  28964.05\n",
      "Photo & Video :  28441.54\n",
      "Shopping :  26919.69\n",
      "Health & Fitness :  23298.02\n",
      "Sports :  23008.9\n",
      "Games :  22898.64\n",
      "News :  21248.02\n",
      "Productivity :  21028.41\n",
      "Utilities :  18684.46\n",
      "Lifestyle :  16815.48\n",
      "Entertainment :  14085.28\n",
      "Business :  7491.12\n",
      "Education :  7003.98\n",
      "Catalogs :  4004.0\n",
      "Medical :  612.0\n"
     ]
    }
   ],
   "source": [
    "genres_ratings_table = freq_table(list_final_ios, 11)\n",
    "for genre in genres_ratings_table:\n",
    "    total_ratings = 0.0\n",
    "    apps_num = 0\n",
    "    for app in list_final_ios:\n",
    "        app_genre = app[11]\n",
    "        if app_genre == genre:\n",
    "            app_ratings = float(app[5])\n",
    "            total_ratings += app_ratings\n",
    "            apps_num += 1\n",
    "            \n",
    "    avg_user_ratings = round(total_ratings / apps_num, 2)\n",
    "    genres_ratings_table[genre] = avg_user_ratings\n",
    "\n",
    "display_table2(genres_ratings_table)    \n",
    "\n"
   ]
  },
  {
   "cell_type": "markdown",
   "metadata": {},
   "source": [
    "###### The following code generates the average of the total number of user ratings per app genre using the 'Category' coulmn  in Android dataset .This shows the populariy of each genre in Google Play store."
   ]
  },
  {
   "cell_type": "code",
   "execution_count": 99,
   "metadata": {
    "scrolled": true
   },
   "outputs": [
    {
     "name": "stdout",
     "output_type": "stream",
     "text": [
      "COMMUNICATION :  38456119.17\n",
      "VIDEO_PLAYERS :  24727872.45\n",
      "SOCIAL :  23253652.13\n",
      "PHOTOGRAPHY :  17840110.4\n",
      "PRODUCTIVITY :  16787331.34\n",
      "GAME :  15588015.6\n",
      "TRAVEL_AND_LOCAL :  13984077.71\n",
      "ENTERTAINMENT :  11640705.88\n",
      "TOOLS :  10801391.3\n",
      "NEWS_AND_MAGAZINES :  9549178.47\n",
      "BOOKS_AND_REFERENCE :  8767811.89\n",
      "SHOPPING :  7036877.31\n",
      "PERSONALIZATION :  5201482.61\n",
      "WEATHER :  5074486.2\n",
      "HEALTH_AND_FITNESS :  4188821.99\n",
      "MAPS_AND_NAVIGATION :  4056941.77\n",
      "FAMILY :  3695641.82\n",
      "SPORTS :  3638640.14\n",
      "ART_AND_DESIGN :  1986335.09\n",
      "FOOD_AND_DRINK :  1924897.74\n",
      "EDUCATION :  1833495.15\n",
      "BUSINESS :  1712290.15\n",
      "LIFESTYLE :  1437816.27\n",
      "FINANCE :  1387692.48\n",
      "HOUSE_AND_HOME :  1331540.56\n",
      "DATING :  854028.83\n",
      "COMICS :  817657.27\n",
      "AUTO_AND_VEHICLES :  647317.82\n",
      "LIBRARIES_AND_DEMO :  638503.73\n",
      "PARENTING :  542603.62\n",
      "BEAUTY :  513151.89\n",
      "EVENTS :  253542.22\n",
      "MEDICAL :  120550.62\n"
     ]
    }
   ],
   "source": [
    "category_installs_table = freq_table(list_final_android, 1)\n",
    "for category in category_installs_table:\n",
    "    tot_installs = 0.0\n",
    "    apps_num = 0\n",
    "    for app in list_final_android:\n",
    "        app_category = app[1]\n",
    "        if category == app_category:\n",
    "            installs = app[5]\n",
    "            installs = installs.replace(',', '' ) # replacing the commas\n",
    "            installs = installs.replace('+', '') # replacing the '+'\n",
    "            tot_installs += float(installs)\n",
    "            apps_num += 1\n",
    "            \n",
    "    avg_user_istalls = round(tot_installs / apps_num,2)\n",
    "    category_installs_table[category] = avg_user_istalls\n",
    "        \n",
    "display_table2(category_installs_table)"
   ]
  },
  {
   "cell_type": "markdown",
   "metadata": {},
   "source": [
    "# Social Networking seems to be the most popular category both in App Store and Google Play. This is m"
   ]
  }
 ],
 "metadata": {
  "kernelspec": {
   "display_name": "Python 3",
   "language": "python",
   "name": "python3"
  },
  "language_info": {
   "codemirror_mode": {
    "name": "ipython",
    "version": 3
   },
   "file_extension": ".py",
   "mimetype": "text/x-python",
   "name": "python",
   "nbconvert_exporter": "python",
   "pygments_lexer": "ipython3",
   "version": "3.8.2"
  }
 },
 "nbformat": 4,
 "nbformat_minor": 2
}
